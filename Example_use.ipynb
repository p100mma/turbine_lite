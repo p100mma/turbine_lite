{
  "nbformat": 4,
  "nbformat_minor": 0,
  "metadata": {
    "colab": {
      "provenance": [],
      "collapsed_sections": []
    },
    "kernelspec": {
      "name": "python3",
      "display_name": "Python 3"
    },
    "language_info": {
      "name": "python"
    }
  },
  "cells": [
    {
      "cell_type": "code",
      "execution_count": 1,
      "metadata": {
        "colab": {
          "base_uri": "https://localhost:8080/"
        },
        "id": "D1RE2MPoFGP6",
        "outputId": "0dcb2195-479b-49ff-fade-b6fadfdbdd40"
      },
      "outputs": [
        {
          "output_type": "stream",
          "name": "stdout",
          "text": [
            "Cloning into 'turbine_lite'...\n",
            "remote: Enumerating objects: 6, done.\u001b[K\n",
            "remote: Counting objects: 100% (6/6), done.\u001b[K\n",
            "remote: Compressing objects: 100% (6/6), done.\u001b[K\n",
            "remote: Total 6 (delta 0), reused 6 (delta 0), pack-reused 0\u001b[K\n",
            "Unpacking objects: 100% (6/6), done.\n"
          ]
        }
      ],
      "source": [
        "#!git clone https://github.com/p100mma/turbine_lite"
      ]
    },
    {
      "cell_type": "code",
      "source": [
        "import numpy as np\n",
        "import pandas as pd\n",
        "import tensorflow.keras as K"
      ],
      "metadata": {
        "id": "USbJetk2FWq4"
      },
      "execution_count": 2,
      "outputs": []
    },
    {
      "cell_type": "markdown",
      "source": [
        "# Description\n",
        "\n",
        "Assumptions:\n",
        "\n",
        "- one file contains array with one column per one time series (variable, i.e. wind speed) to be used as input to the model (X), one file contains array with one variable to be predicted by the model (Y). Along with time series, one column specifying timestamp is added. Both have same number of rows, number of rows is equal to the number of timesteps under consideration, timesteps are evenly spaced, such that for example, observation at row $t+1$ is 5 min later than observation at row $t$, and row $t$ is 5 min later than $t-1$ etc.\n",
        "\n",
        "- both Y and X can contain missing values (NaN or null). For Y, an algorithm for fiding avaliable regions for the input to the network should be used that returns indexes of those regions (rows in X and Y). Then, the indexes should be partitioned into dataset portions avaliable for training the model and testing (testing probably should consist of later timestamps than training).\n",
        "\n",
        "- after necessary preprocessing, sliding window approach is used to handle the data to the neural network model in samples, where each sample consists of pair of (input, target), where:\n",
        "\n",
        "  - input has defined length in timesteps, call it $pastHistory$,\n",
        "\n",
        "  - target has defined length in timesteps not necessairly equal to the input length, call it $horizon$,\n",
        "\n",
        "  - theese parameters should be considered also during the algorithm for finding regions in initial X, Y data avaliable for handling to the network. "
      ],
      "metadata": {
        "id": "_zdMgsQ-FpgF"
      }
    },
    {
      "cell_type": "code",
      "source": [
        "  # Initial X, Y arrays\n",
        "  #%cd /content/\n",
        "  X_filename='my_X.csv'\n",
        "  Y_filename='my_Y.csv'\n",
        "  X_series=pd.read_csv(X_filename)\n",
        "  X_series.Timestamp=pd.to_datetime(X_series.Timestamp)\n",
        "  Y_series=pd.read_csv(Y_filename)\n",
        "  Y_series.Timestamp=pd.to_datetime(Y_series.Timestamp)\n",
        "  assert X_series.shape[0]==Y_series.shape[0], \"Y and X have different number of rows!\"\n",
        "  Y_series.index=[i for i in range(Y_series.shape[0])]\n",
        "  X_series.index=Y_series.index\n"
      ],
      "metadata": {
        "colab": {
          "base_uri": "https://localhost:8080/"
        },
        "id": "dFz9TGBZFoeT",
        "outputId": "96519f33-032b-48fd-a776-1d1cfd10174f"
      },
      "execution_count": 34,
      "outputs": [
        {
          "output_type": "stream",
          "name": "stdout",
          "text": [
            "/content\n"
          ]
        }
      ]
    },
    {
      "cell_type": "code",
      "source": [
        "X_series.head()"
      ],
      "metadata": {
        "colab": {
          "base_uri": "https://localhost:8080/",
          "height": 206
        },
        "id": "bC9eFbFlJk48",
        "outputId": "2d1cbbd8-2bec-4fe4-c5c3-42dcd0e87173"
      },
      "execution_count": 26,
      "outputs": [
        {
          "output_type": "execute_result",
          "data": {
            "text/plain": [
              "                Timestamp       dir         v  state      temp\n",
              "0 2021-01-01 00:00:00.961  5.210624  5.322689  102.0  1.500000\n",
              "1 2021-01-01 00:05:00.961  6.656118  5.443119  102.0  1.462500\n",
              "2 2021-01-01 00:10:00.961  7.687749  4.901177  102.0  1.440000\n",
              "3 2021-01-01 00:15:00.961  8.719379  4.775746  102.0  1.350000\n",
              "4 2021-01-01 00:20:00.961  1.962600  4.833967  102.0  1.333333"
            ],
            "text/html": [
              "\n",
              "  <div id=\"df-eaf34ff0-65d8-4116-b717-a21f87bf2a88\">\n",
              "    <div class=\"colab-df-container\">\n",
              "      <div>\n",
              "<style scoped>\n",
              "    .dataframe tbody tr th:only-of-type {\n",
              "        vertical-align: middle;\n",
              "    }\n",
              "\n",
              "    .dataframe tbody tr th {\n",
              "        vertical-align: top;\n",
              "    }\n",
              "\n",
              "    .dataframe thead th {\n",
              "        text-align: right;\n",
              "    }\n",
              "</style>\n",
              "<table border=\"1\" class=\"dataframe\">\n",
              "  <thead>\n",
              "    <tr style=\"text-align: right;\">\n",
              "      <th></th>\n",
              "      <th>Timestamp</th>\n",
              "      <th>dir</th>\n",
              "      <th>v</th>\n",
              "      <th>state</th>\n",
              "      <th>temp</th>\n",
              "    </tr>\n",
              "  </thead>\n",
              "  <tbody>\n",
              "    <tr>\n",
              "      <th>0</th>\n",
              "      <td>2021-01-01 00:00:00.961</td>\n",
              "      <td>5.210624</td>\n",
              "      <td>5.322689</td>\n",
              "      <td>102.0</td>\n",
              "      <td>1.500000</td>\n",
              "    </tr>\n",
              "    <tr>\n",
              "      <th>1</th>\n",
              "      <td>2021-01-01 00:05:00.961</td>\n",
              "      <td>6.656118</td>\n",
              "      <td>5.443119</td>\n",
              "      <td>102.0</td>\n",
              "      <td>1.462500</td>\n",
              "    </tr>\n",
              "    <tr>\n",
              "      <th>2</th>\n",
              "      <td>2021-01-01 00:10:00.961</td>\n",
              "      <td>7.687749</td>\n",
              "      <td>4.901177</td>\n",
              "      <td>102.0</td>\n",
              "      <td>1.440000</td>\n",
              "    </tr>\n",
              "    <tr>\n",
              "      <th>3</th>\n",
              "      <td>2021-01-01 00:15:00.961</td>\n",
              "      <td>8.719379</td>\n",
              "      <td>4.775746</td>\n",
              "      <td>102.0</td>\n",
              "      <td>1.350000</td>\n",
              "    </tr>\n",
              "    <tr>\n",
              "      <th>4</th>\n",
              "      <td>2021-01-01 00:20:00.961</td>\n",
              "      <td>1.962600</td>\n",
              "      <td>4.833967</td>\n",
              "      <td>102.0</td>\n",
              "      <td>1.333333</td>\n",
              "    </tr>\n",
              "  </tbody>\n",
              "</table>\n",
              "</div>\n",
              "      <button class=\"colab-df-convert\" onclick=\"convertToInteractive('df-eaf34ff0-65d8-4116-b717-a21f87bf2a88')\"\n",
              "              title=\"Convert this dataframe to an interactive table.\"\n",
              "              style=\"display:none;\">\n",
              "        \n",
              "  <svg xmlns=\"http://www.w3.org/2000/svg\" height=\"24px\"viewBox=\"0 0 24 24\"\n",
              "       width=\"24px\">\n",
              "    <path d=\"M0 0h24v24H0V0z\" fill=\"none\"/>\n",
              "    <path d=\"M18.56 5.44l.94 2.06.94-2.06 2.06-.94-2.06-.94-.94-2.06-.94 2.06-2.06.94zm-11 1L8.5 8.5l.94-2.06 2.06-.94-2.06-.94L8.5 2.5l-.94 2.06-2.06.94zm10 10l.94 2.06.94-2.06 2.06-.94-2.06-.94-.94-2.06-.94 2.06-2.06.94z\"/><path d=\"M17.41 7.96l-1.37-1.37c-.4-.4-.92-.59-1.43-.59-.52 0-1.04.2-1.43.59L10.3 9.45l-7.72 7.72c-.78.78-.78 2.05 0 2.83L4 21.41c.39.39.9.59 1.41.59.51 0 1.02-.2 1.41-.59l7.78-7.78 2.81-2.81c.8-.78.8-2.07 0-2.86zM5.41 20L4 18.59l7.72-7.72 1.47 1.35L5.41 20z\"/>\n",
              "  </svg>\n",
              "      </button>\n",
              "      \n",
              "  <style>\n",
              "    .colab-df-container {\n",
              "      display:flex;\n",
              "      flex-wrap:wrap;\n",
              "      gap: 12px;\n",
              "    }\n",
              "\n",
              "    .colab-df-convert {\n",
              "      background-color: #E8F0FE;\n",
              "      border: none;\n",
              "      border-radius: 50%;\n",
              "      cursor: pointer;\n",
              "      display: none;\n",
              "      fill: #1967D2;\n",
              "      height: 32px;\n",
              "      padding: 0 0 0 0;\n",
              "      width: 32px;\n",
              "    }\n",
              "\n",
              "    .colab-df-convert:hover {\n",
              "      background-color: #E2EBFA;\n",
              "      box-shadow: 0px 1px 2px rgba(60, 64, 67, 0.3), 0px 1px 3px 1px rgba(60, 64, 67, 0.15);\n",
              "      fill: #174EA6;\n",
              "    }\n",
              "\n",
              "    [theme=dark] .colab-df-convert {\n",
              "      background-color: #3B4455;\n",
              "      fill: #D2E3FC;\n",
              "    }\n",
              "\n",
              "    [theme=dark] .colab-df-convert:hover {\n",
              "      background-color: #434B5C;\n",
              "      box-shadow: 0px 1px 3px 1px rgba(0, 0, 0, 0.15);\n",
              "      filter: drop-shadow(0px 1px 2px rgba(0, 0, 0, 0.3));\n",
              "      fill: #FFFFFF;\n",
              "    }\n",
              "  </style>\n",
              "\n",
              "      <script>\n",
              "        const buttonEl =\n",
              "          document.querySelector('#df-eaf34ff0-65d8-4116-b717-a21f87bf2a88 button.colab-df-convert');\n",
              "        buttonEl.style.display =\n",
              "          google.colab.kernel.accessAllowed ? 'block' : 'none';\n",
              "\n",
              "        async function convertToInteractive(key) {\n",
              "          const element = document.querySelector('#df-eaf34ff0-65d8-4116-b717-a21f87bf2a88');\n",
              "          const dataTable =\n",
              "            await google.colab.kernel.invokeFunction('convertToInteractive',\n",
              "                                                     [key], {});\n",
              "          if (!dataTable) return;\n",
              "\n",
              "          const docLinkHtml = 'Like what you see? Visit the ' +\n",
              "            '<a target=\"_blank\" href=https://colab.research.google.com/notebooks/data_table.ipynb>data table notebook</a>'\n",
              "            + ' to learn more about interactive tables.';\n",
              "          element.innerHTML = '';\n",
              "          dataTable['output_type'] = 'display_data';\n",
              "          await google.colab.output.renderOutput(dataTable, element);\n",
              "          const docLink = document.createElement('div');\n",
              "          docLink.innerHTML = docLinkHtml;\n",
              "          element.appendChild(docLink);\n",
              "        }\n",
              "      </script>\n",
              "    </div>\n",
              "  </div>\n",
              "  "
            ]
          },
          "metadata": {},
          "execution_count": 26
        }
      ]
    },
    {
      "cell_type": "code",
      "source": [
        "Y_series.head()"
      ],
      "metadata": {
        "colab": {
          "base_uri": "https://localhost:8080/",
          "height": 206
        },
        "id": "UC2edfOfJlEs",
        "outputId": "59af0e8f-34a5-4ffe-bcf8-e128bd3ee8b9"
      },
      "execution_count": 5,
      "outputs": [
        {
          "output_type": "execute_result",
          "data": {
            "text/plain": [
              "                Timestamp         p\n",
              "0 2021-01-01 00:00:00.961  0.239603\n",
              "1 2021-01-01 00:05:00.961  0.245508\n",
              "2 2021-01-01 00:10:00.961  0.217836\n",
              "3 2021-01-01 00:15:00.961  0.192571\n",
              "4 2021-01-01 00:20:00.961  0.168903"
            ],
            "text/html": [
              "\n",
              "  <div id=\"df-62462f3f-0880-49b4-8875-954d82a0c90d\">\n",
              "    <div class=\"colab-df-container\">\n",
              "      <div>\n",
              "<style scoped>\n",
              "    .dataframe tbody tr th:only-of-type {\n",
              "        vertical-align: middle;\n",
              "    }\n",
              "\n",
              "    .dataframe tbody tr th {\n",
              "        vertical-align: top;\n",
              "    }\n",
              "\n",
              "    .dataframe thead th {\n",
              "        text-align: right;\n",
              "    }\n",
              "</style>\n",
              "<table border=\"1\" class=\"dataframe\">\n",
              "  <thead>\n",
              "    <tr style=\"text-align: right;\">\n",
              "      <th></th>\n",
              "      <th>Timestamp</th>\n",
              "      <th>p</th>\n",
              "    </tr>\n",
              "  </thead>\n",
              "  <tbody>\n",
              "    <tr>\n",
              "      <th>0</th>\n",
              "      <td>2021-01-01 00:00:00.961</td>\n",
              "      <td>0.239603</td>\n",
              "    </tr>\n",
              "    <tr>\n",
              "      <th>1</th>\n",
              "      <td>2021-01-01 00:05:00.961</td>\n",
              "      <td>0.245508</td>\n",
              "    </tr>\n",
              "    <tr>\n",
              "      <th>2</th>\n",
              "      <td>2021-01-01 00:10:00.961</td>\n",
              "      <td>0.217836</td>\n",
              "    </tr>\n",
              "    <tr>\n",
              "      <th>3</th>\n",
              "      <td>2021-01-01 00:15:00.961</td>\n",
              "      <td>0.192571</td>\n",
              "    </tr>\n",
              "    <tr>\n",
              "      <th>4</th>\n",
              "      <td>2021-01-01 00:20:00.961</td>\n",
              "      <td>0.168903</td>\n",
              "    </tr>\n",
              "  </tbody>\n",
              "</table>\n",
              "</div>\n",
              "      <button class=\"colab-df-convert\" onclick=\"convertToInteractive('df-62462f3f-0880-49b4-8875-954d82a0c90d')\"\n",
              "              title=\"Convert this dataframe to an interactive table.\"\n",
              "              style=\"display:none;\">\n",
              "        \n",
              "  <svg xmlns=\"http://www.w3.org/2000/svg\" height=\"24px\"viewBox=\"0 0 24 24\"\n",
              "       width=\"24px\">\n",
              "    <path d=\"M0 0h24v24H0V0z\" fill=\"none\"/>\n",
              "    <path d=\"M18.56 5.44l.94 2.06.94-2.06 2.06-.94-2.06-.94-.94-2.06-.94 2.06-2.06.94zm-11 1L8.5 8.5l.94-2.06 2.06-.94-2.06-.94L8.5 2.5l-.94 2.06-2.06.94zm10 10l.94 2.06.94-2.06 2.06-.94-2.06-.94-.94-2.06-.94 2.06-2.06.94z\"/><path d=\"M17.41 7.96l-1.37-1.37c-.4-.4-.92-.59-1.43-.59-.52 0-1.04.2-1.43.59L10.3 9.45l-7.72 7.72c-.78.78-.78 2.05 0 2.83L4 21.41c.39.39.9.59 1.41.59.51 0 1.02-.2 1.41-.59l7.78-7.78 2.81-2.81c.8-.78.8-2.07 0-2.86zM5.41 20L4 18.59l7.72-7.72 1.47 1.35L5.41 20z\"/>\n",
              "  </svg>\n",
              "      </button>\n",
              "      \n",
              "  <style>\n",
              "    .colab-df-container {\n",
              "      display:flex;\n",
              "      flex-wrap:wrap;\n",
              "      gap: 12px;\n",
              "    }\n",
              "\n",
              "    .colab-df-convert {\n",
              "      background-color: #E8F0FE;\n",
              "      border: none;\n",
              "      border-radius: 50%;\n",
              "      cursor: pointer;\n",
              "      display: none;\n",
              "      fill: #1967D2;\n",
              "      height: 32px;\n",
              "      padding: 0 0 0 0;\n",
              "      width: 32px;\n",
              "    }\n",
              "\n",
              "    .colab-df-convert:hover {\n",
              "      background-color: #E2EBFA;\n",
              "      box-shadow: 0px 1px 2px rgba(60, 64, 67, 0.3), 0px 1px 3px 1px rgba(60, 64, 67, 0.15);\n",
              "      fill: #174EA6;\n",
              "    }\n",
              "\n",
              "    [theme=dark] .colab-df-convert {\n",
              "      background-color: #3B4455;\n",
              "      fill: #D2E3FC;\n",
              "    }\n",
              "\n",
              "    [theme=dark] .colab-df-convert:hover {\n",
              "      background-color: #434B5C;\n",
              "      box-shadow: 0px 1px 3px 1px rgba(0, 0, 0, 0.15);\n",
              "      filter: drop-shadow(0px 1px 2px rgba(0, 0, 0, 0.3));\n",
              "      fill: #FFFFFF;\n",
              "    }\n",
              "  </style>\n",
              "\n",
              "      <script>\n",
              "        const buttonEl =\n",
              "          document.querySelector('#df-62462f3f-0880-49b4-8875-954d82a0c90d button.colab-df-convert');\n",
              "        buttonEl.style.display =\n",
              "          google.colab.kernel.accessAllowed ? 'block' : 'none';\n",
              "\n",
              "        async function convertToInteractive(key) {\n",
              "          const element = document.querySelector('#df-62462f3f-0880-49b4-8875-954d82a0c90d');\n",
              "          const dataTable =\n",
              "            await google.colab.kernel.invokeFunction('convertToInteractive',\n",
              "                                                     [key], {});\n",
              "          if (!dataTable) return;\n",
              "\n",
              "          const docLinkHtml = 'Like what you see? Visit the ' +\n",
              "            '<a target=\"_blank\" href=https://colab.research.google.com/notebooks/data_table.ipynb>data table notebook</a>'\n",
              "            + ' to learn more about interactive tables.';\n",
              "          element.innerHTML = '';\n",
              "          dataTable['output_type'] = 'display_data';\n",
              "          await google.colab.output.renderOutput(dataTable, element);\n",
              "          const docLink = document.createElement('div');\n",
              "          docLink.innerHTML = docLinkHtml;\n",
              "          element.appendChild(docLink);\n",
              "        }\n",
              "      </script>\n",
              "    </div>\n",
              "  </div>\n",
              "  "
            ]
          },
          "metadata": {},
          "execution_count": 5
        }
      ]
    },
    {
      "cell_type": "code",
      "source": [
        "X_series.tail()"
      ],
      "metadata": {
        "colab": {
          "base_uri": "https://localhost:8080/",
          "height": 206
        },
        "id": "YScDXP8vJoUZ",
        "outputId": "6c266189-e65e-4ab5-ccdb-20b6d6db46fc"
      },
      "execution_count": 6,
      "outputs": [
        {
          "output_type": "execute_result",
          "data": {
            "text/plain": [
              "                    Timestamp       dir         v  state  temp\n",
              "16986 2021-02-28 23:30:00.961  3.331437  5.949410  102.0   3.6\n",
              "16987 2021-02-28 23:35:00.961  3.331437  5.956607  102.0   3.6\n",
              "16988 2021-02-28 23:40:00.961  1.667115  5.462344  102.0   3.6\n",
              "16989 2021-02-28 23:45:00.961  1.667115  5.766281  102.0   3.6\n",
              "16990 2021-02-28 23:50:00.961 -0.871973  6.352681  102.0   3.6"
            ],
            "text/html": [
              "\n",
              "  <div id=\"df-183f65d0-9004-4763-84bb-4a30e921bd8c\">\n",
              "    <div class=\"colab-df-container\">\n",
              "      <div>\n",
              "<style scoped>\n",
              "    .dataframe tbody tr th:only-of-type {\n",
              "        vertical-align: middle;\n",
              "    }\n",
              "\n",
              "    .dataframe tbody tr th {\n",
              "        vertical-align: top;\n",
              "    }\n",
              "\n",
              "    .dataframe thead th {\n",
              "        text-align: right;\n",
              "    }\n",
              "</style>\n",
              "<table border=\"1\" class=\"dataframe\">\n",
              "  <thead>\n",
              "    <tr style=\"text-align: right;\">\n",
              "      <th></th>\n",
              "      <th>Timestamp</th>\n",
              "      <th>dir</th>\n",
              "      <th>v</th>\n",
              "      <th>state</th>\n",
              "      <th>temp</th>\n",
              "    </tr>\n",
              "  </thead>\n",
              "  <tbody>\n",
              "    <tr>\n",
              "      <th>16986</th>\n",
              "      <td>2021-02-28 23:30:00.961</td>\n",
              "      <td>3.331437</td>\n",
              "      <td>5.949410</td>\n",
              "      <td>102.0</td>\n",
              "      <td>3.6</td>\n",
              "    </tr>\n",
              "    <tr>\n",
              "      <th>16987</th>\n",
              "      <td>2021-02-28 23:35:00.961</td>\n",
              "      <td>3.331437</td>\n",
              "      <td>5.956607</td>\n",
              "      <td>102.0</td>\n",
              "      <td>3.6</td>\n",
              "    </tr>\n",
              "    <tr>\n",
              "      <th>16988</th>\n",
              "      <td>2021-02-28 23:40:00.961</td>\n",
              "      <td>1.667115</td>\n",
              "      <td>5.462344</td>\n",
              "      <td>102.0</td>\n",
              "      <td>3.6</td>\n",
              "    </tr>\n",
              "    <tr>\n",
              "      <th>16989</th>\n",
              "      <td>2021-02-28 23:45:00.961</td>\n",
              "      <td>1.667115</td>\n",
              "      <td>5.766281</td>\n",
              "      <td>102.0</td>\n",
              "      <td>3.6</td>\n",
              "    </tr>\n",
              "    <tr>\n",
              "      <th>16990</th>\n",
              "      <td>2021-02-28 23:50:00.961</td>\n",
              "      <td>-0.871973</td>\n",
              "      <td>6.352681</td>\n",
              "      <td>102.0</td>\n",
              "      <td>3.6</td>\n",
              "    </tr>\n",
              "  </tbody>\n",
              "</table>\n",
              "</div>\n",
              "      <button class=\"colab-df-convert\" onclick=\"convertToInteractive('df-183f65d0-9004-4763-84bb-4a30e921bd8c')\"\n",
              "              title=\"Convert this dataframe to an interactive table.\"\n",
              "              style=\"display:none;\">\n",
              "        \n",
              "  <svg xmlns=\"http://www.w3.org/2000/svg\" height=\"24px\"viewBox=\"0 0 24 24\"\n",
              "       width=\"24px\">\n",
              "    <path d=\"M0 0h24v24H0V0z\" fill=\"none\"/>\n",
              "    <path d=\"M18.56 5.44l.94 2.06.94-2.06 2.06-.94-2.06-.94-.94-2.06-.94 2.06-2.06.94zm-11 1L8.5 8.5l.94-2.06 2.06-.94-2.06-.94L8.5 2.5l-.94 2.06-2.06.94zm10 10l.94 2.06.94-2.06 2.06-.94-2.06-.94-.94-2.06-.94 2.06-2.06.94z\"/><path d=\"M17.41 7.96l-1.37-1.37c-.4-.4-.92-.59-1.43-.59-.52 0-1.04.2-1.43.59L10.3 9.45l-7.72 7.72c-.78.78-.78 2.05 0 2.83L4 21.41c.39.39.9.59 1.41.59.51 0 1.02-.2 1.41-.59l7.78-7.78 2.81-2.81c.8-.78.8-2.07 0-2.86zM5.41 20L4 18.59l7.72-7.72 1.47 1.35L5.41 20z\"/>\n",
              "  </svg>\n",
              "      </button>\n",
              "      \n",
              "  <style>\n",
              "    .colab-df-container {\n",
              "      display:flex;\n",
              "      flex-wrap:wrap;\n",
              "      gap: 12px;\n",
              "    }\n",
              "\n",
              "    .colab-df-convert {\n",
              "      background-color: #E8F0FE;\n",
              "      border: none;\n",
              "      border-radius: 50%;\n",
              "      cursor: pointer;\n",
              "      display: none;\n",
              "      fill: #1967D2;\n",
              "      height: 32px;\n",
              "      padding: 0 0 0 0;\n",
              "      width: 32px;\n",
              "    }\n",
              "\n",
              "    .colab-df-convert:hover {\n",
              "      background-color: #E2EBFA;\n",
              "      box-shadow: 0px 1px 2px rgba(60, 64, 67, 0.3), 0px 1px 3px 1px rgba(60, 64, 67, 0.15);\n",
              "      fill: #174EA6;\n",
              "    }\n",
              "\n",
              "    [theme=dark] .colab-df-convert {\n",
              "      background-color: #3B4455;\n",
              "      fill: #D2E3FC;\n",
              "    }\n",
              "\n",
              "    [theme=dark] .colab-df-convert:hover {\n",
              "      background-color: #434B5C;\n",
              "      box-shadow: 0px 1px 3px 1px rgba(0, 0, 0, 0.15);\n",
              "      filter: drop-shadow(0px 1px 2px rgba(0, 0, 0, 0.3));\n",
              "      fill: #FFFFFF;\n",
              "    }\n",
              "  </style>\n",
              "\n",
              "      <script>\n",
              "        const buttonEl =\n",
              "          document.querySelector('#df-183f65d0-9004-4763-84bb-4a30e921bd8c button.colab-df-convert');\n",
              "        buttonEl.style.display =\n",
              "          google.colab.kernel.accessAllowed ? 'block' : 'none';\n",
              "\n",
              "        async function convertToInteractive(key) {\n",
              "          const element = document.querySelector('#df-183f65d0-9004-4763-84bb-4a30e921bd8c');\n",
              "          const dataTable =\n",
              "            await google.colab.kernel.invokeFunction('convertToInteractive',\n",
              "                                                     [key], {});\n",
              "          if (!dataTable) return;\n",
              "\n",
              "          const docLinkHtml = 'Like what you see? Visit the ' +\n",
              "            '<a target=\"_blank\" href=https://colab.research.google.com/notebooks/data_table.ipynb>data table notebook</a>'\n",
              "            + ' to learn more about interactive tables.';\n",
              "          element.innerHTML = '';\n",
              "          dataTable['output_type'] = 'display_data';\n",
              "          await google.colab.output.renderOutput(dataTable, element);\n",
              "          const docLink = document.createElement('div');\n",
              "          docLink.innerHTML = docLinkHtml;\n",
              "          element.appendChild(docLink);\n",
              "        }\n",
              "      </script>\n",
              "    </div>\n",
              "  </div>\n",
              "  "
            ]
          },
          "metadata": {},
          "execution_count": 6
        }
      ]
    },
    {
      "cell_type": "code",
      "source": [
        "Y_series.tail()"
      ],
      "metadata": {
        "colab": {
          "base_uri": "https://localhost:8080/",
          "height": 206
        },
        "id": "9YccCrNsJpz6",
        "outputId": "b0579ec5-9c93-43bc-85a6-7d84252968d2"
      },
      "execution_count": 7,
      "outputs": [
        {
          "output_type": "execute_result",
          "data": {
            "text/plain": [
              "                    Timestamp         p\n",
              "16986 2021-02-28 23:30:00.961  0.345500\n",
              "16987 2021-02-28 23:35:00.961  0.342889\n",
              "16988 2021-02-28 23:40:00.961  0.281623\n",
              "16989 2021-02-28 23:45:00.961  0.309770\n",
              "16990 2021-02-28 23:50:00.961  0.444568"
            ],
            "text/html": [
              "\n",
              "  <div id=\"df-82bb6531-a5d0-4c86-83d5-c3424eb8eaf4\">\n",
              "    <div class=\"colab-df-container\">\n",
              "      <div>\n",
              "<style scoped>\n",
              "    .dataframe tbody tr th:only-of-type {\n",
              "        vertical-align: middle;\n",
              "    }\n",
              "\n",
              "    .dataframe tbody tr th {\n",
              "        vertical-align: top;\n",
              "    }\n",
              "\n",
              "    .dataframe thead th {\n",
              "        text-align: right;\n",
              "    }\n",
              "</style>\n",
              "<table border=\"1\" class=\"dataframe\">\n",
              "  <thead>\n",
              "    <tr style=\"text-align: right;\">\n",
              "      <th></th>\n",
              "      <th>Timestamp</th>\n",
              "      <th>p</th>\n",
              "    </tr>\n",
              "  </thead>\n",
              "  <tbody>\n",
              "    <tr>\n",
              "      <th>16986</th>\n",
              "      <td>2021-02-28 23:30:00.961</td>\n",
              "      <td>0.345500</td>\n",
              "    </tr>\n",
              "    <tr>\n",
              "      <th>16987</th>\n",
              "      <td>2021-02-28 23:35:00.961</td>\n",
              "      <td>0.342889</td>\n",
              "    </tr>\n",
              "    <tr>\n",
              "      <th>16988</th>\n",
              "      <td>2021-02-28 23:40:00.961</td>\n",
              "      <td>0.281623</td>\n",
              "    </tr>\n",
              "    <tr>\n",
              "      <th>16989</th>\n",
              "      <td>2021-02-28 23:45:00.961</td>\n",
              "      <td>0.309770</td>\n",
              "    </tr>\n",
              "    <tr>\n",
              "      <th>16990</th>\n",
              "      <td>2021-02-28 23:50:00.961</td>\n",
              "      <td>0.444568</td>\n",
              "    </tr>\n",
              "  </tbody>\n",
              "</table>\n",
              "</div>\n",
              "      <button class=\"colab-df-convert\" onclick=\"convertToInteractive('df-82bb6531-a5d0-4c86-83d5-c3424eb8eaf4')\"\n",
              "              title=\"Convert this dataframe to an interactive table.\"\n",
              "              style=\"display:none;\">\n",
              "        \n",
              "  <svg xmlns=\"http://www.w3.org/2000/svg\" height=\"24px\"viewBox=\"0 0 24 24\"\n",
              "       width=\"24px\">\n",
              "    <path d=\"M0 0h24v24H0V0z\" fill=\"none\"/>\n",
              "    <path d=\"M18.56 5.44l.94 2.06.94-2.06 2.06-.94-2.06-.94-.94-2.06-.94 2.06-2.06.94zm-11 1L8.5 8.5l.94-2.06 2.06-.94-2.06-.94L8.5 2.5l-.94 2.06-2.06.94zm10 10l.94 2.06.94-2.06 2.06-.94-2.06-.94-.94-2.06-.94 2.06-2.06.94z\"/><path d=\"M17.41 7.96l-1.37-1.37c-.4-.4-.92-.59-1.43-.59-.52 0-1.04.2-1.43.59L10.3 9.45l-7.72 7.72c-.78.78-.78 2.05 0 2.83L4 21.41c.39.39.9.59 1.41.59.51 0 1.02-.2 1.41-.59l7.78-7.78 2.81-2.81c.8-.78.8-2.07 0-2.86zM5.41 20L4 18.59l7.72-7.72 1.47 1.35L5.41 20z\"/>\n",
              "  </svg>\n",
              "      </button>\n",
              "      \n",
              "  <style>\n",
              "    .colab-df-container {\n",
              "      display:flex;\n",
              "      flex-wrap:wrap;\n",
              "      gap: 12px;\n",
              "    }\n",
              "\n",
              "    .colab-df-convert {\n",
              "      background-color: #E8F0FE;\n",
              "      border: none;\n",
              "      border-radius: 50%;\n",
              "      cursor: pointer;\n",
              "      display: none;\n",
              "      fill: #1967D2;\n",
              "      height: 32px;\n",
              "      padding: 0 0 0 0;\n",
              "      width: 32px;\n",
              "    }\n",
              "\n",
              "    .colab-df-convert:hover {\n",
              "      background-color: #E2EBFA;\n",
              "      box-shadow: 0px 1px 2px rgba(60, 64, 67, 0.3), 0px 1px 3px 1px rgba(60, 64, 67, 0.15);\n",
              "      fill: #174EA6;\n",
              "    }\n",
              "\n",
              "    [theme=dark] .colab-df-convert {\n",
              "      background-color: #3B4455;\n",
              "      fill: #D2E3FC;\n",
              "    }\n",
              "\n",
              "    [theme=dark] .colab-df-convert:hover {\n",
              "      background-color: #434B5C;\n",
              "      box-shadow: 0px 1px 3px 1px rgba(0, 0, 0, 0.15);\n",
              "      filter: drop-shadow(0px 1px 2px rgba(0, 0, 0, 0.3));\n",
              "      fill: #FFFFFF;\n",
              "    }\n",
              "  </style>\n",
              "\n",
              "      <script>\n",
              "        const buttonEl =\n",
              "          document.querySelector('#df-82bb6531-a5d0-4c86-83d5-c3424eb8eaf4 button.colab-df-convert');\n",
              "        buttonEl.style.display =\n",
              "          google.colab.kernel.accessAllowed ? 'block' : 'none';\n",
              "\n",
              "        async function convertToInteractive(key) {\n",
              "          const element = document.querySelector('#df-82bb6531-a5d0-4c86-83d5-c3424eb8eaf4');\n",
              "          const dataTable =\n",
              "            await google.colab.kernel.invokeFunction('convertToInteractive',\n",
              "                                                     [key], {});\n",
              "          if (!dataTable) return;\n",
              "\n",
              "          const docLinkHtml = 'Like what you see? Visit the ' +\n",
              "            '<a target=\"_blank\" href=https://colab.research.google.com/notebooks/data_table.ipynb>data table notebook</a>'\n",
              "            + ' to learn more about interactive tables.';\n",
              "          element.innerHTML = '';\n",
              "          dataTable['output_type'] = 'display_data';\n",
              "          await google.colab.output.renderOutput(dataTable, element);\n",
              "          const docLink = document.createElement('div');\n",
              "          docLink.innerHTML = docLinkHtml;\n",
              "          element.appendChild(docLink);\n",
              "        }\n",
              "      </script>\n",
              "    </div>\n",
              "  </div>\n",
              "  "
            ]
          },
          "metadata": {},
          "execution_count": 7
        }
      ]
    },
    {
      "cell_type": "markdown",
      "source": [
        "## Preprocessing step\n",
        "\n",
        "Consists of:\n",
        "\n",
        "- adding the Y to the X matrix if past timestamps of Y are to be used in predicting future Y,\n",
        "\n",
        "- interpolation of X matrix (inputs to the network),\n",
        "\n",
        "- transformation of X, Y:\n",
        "\n",
        "  - special transformations, such as converting wind speed and angle to wind vector in cartesian coordinates,\n",
        "  - standarization/centralization/scaling transformations\n",
        "\n",
        "- where transformations are applied to the parts specified by training and validation regions prepared before separately."
      ],
      "metadata": {
        "id": "KXN1PQsnJxnZ"
      }
    },
    {
      "cell_type": "code",
      "source": [
        "partitionLY= {\"train\": [11, 5694], \n",
        "        \"validation\": [11895], \n",
        "        \"test\": [15288]} \n",
        "partitionRY= {\"train\": [5693, 11903],\n",
        "        \"validation\": [15296], \n",
        "        \"test\": [16991]} \n",
        "partitionLX= {\"train\": [0, 5683], \n",
        "        \"validation\": [11884], \n",
        "        \"test\": [15277]}\n",
        "partitionRX={\"train\": [5684, 11894],\n",
        "        \"validation\": [15287], \n",
        "        \"test\": [16982]}"
      ],
      "metadata": {
        "id": "gSdD7U0njBAs"
      },
      "execution_count": 18,
      "outputs": []
    },
    {
      "cell_type": "code",
      "source": [
        "\n",
        "import preprocessor\n",
        "TransformColsXsargs={\n",
        "      \"X_series\": X_series,\n",
        "      \"L\": partitionLX[\"train\"] + partitionLX[\"validation\"],\n",
        "      \"R\": partitionRX[\"train\"] + partitionRX[\"validation\"],\n",
        "      \"feature_mapping\":  {'v':(lambda r,A: r*np.cos(A),['v','dir'],[] ),\n",
        "                          'dir':(lambda r,A: r*np.sin(A),['v','dir'],[] )\n",
        "                          } #keys: names of columns\n",
        "\n",
        "}\n",
        "X_series= preprocessor.TransformCols(**TransformColsXsargs)\n",
        "X_series = pd.concat([X_series, Y_series['p'] ], axis=1) #use also past power timestamps\n",
        "\n",
        "# standardization parameters (mean, sd) are learned only on training set\n",
        "X_series, X_estimators = preprocessor.AutoIntStanScale(X_series,\n",
        "                                                       {\"p\":['interpolate','standardize'],\n",
        "                                                        \"v\":['interpolate','standardize'],\n",
        "                                                        \"dir\":['interpolate','standardize'],\n",
        "                                                        \"temp\":['interpolate','standardize']\n",
        "                                                        },\n",
        "                                                        partitionLX, partitionRX, \n",
        "                                                        keep_estimators=True)\n",
        "Y_series, Y_estimators = preprocessor.AutoIntStanScale(Y_series,\n",
        "                                                       {\"p\":['standardize']},\n",
        "                                                        partitionLY, partitionRY, \n",
        "                                                        keep_estimators=True)\n",
        "#keep_estimators==True allows for reverse-transform of validation samples later \n"
      ],
      "metadata": {
        "id": "HKF4Am7NJx9Z"
      },
      "execution_count": 35,
      "outputs": []
    },
    {
      "cell_type": "markdown",
      "source": [
        "## Model definition\n",
        "\n",
        "Assumption on the NN model are as follows:\n",
        "\n",
        "- model has 3 or 4 inital modules, one for each input time-series/variable, which are then linked to output one time-series of interest to predict,\n",
        "\n",
        "- special SlidingWindow generator is used for handling the samples to the network, which takes into account the training and validation regions specified by indexes mentioned above\n",
        "\n",
        "- it's relatively easy to simplify the above part if one wants the sliding window to be ran on all of the regions of X and Y matrices (for example where no invalid values are in Y)"
      ],
      "metadata": {
        "id": "FMyVwcGuK2Ht"
      }
    },
    {
      "cell_type": "code",
      "source": [
        "#%cd turbine_lite\n",
        "import handler\n",
        "# creating the generator object to be used with keras model.fit\n",
        "X_indexes_tr=[np.arange(partitionLX[\"train\"][i],partitionRX[\"train\"][i]) for i in range(len(partitionLX[\"train\"]))]\n",
        "Y_indexes_tr=[np.arange(partitionLY[\"train\"][i],partitionRY[\"train\"][i]) for i in range(len(partitionLY[\"train\"]))]\n",
        "X_indexes_te=[np.arange(partitionLX[\"validation\"][i],partitionRX[\"validation\"][i]) for i in range(len(partitionLX[\"validation\"]))]\n",
        "Y_indexes_te=[np.arange(partitionLY[\"validation\"][i],partitionRY[\"validation\"][i]) for i in range(len(partitionLY[\"validation\"]))]\n",
        "batch_size=32\n",
        "pastHistory, horizon = 11, 9  #will work with example X_indexes, Y_indexes (partitionLX, etc.)!...\n",
        "#...other pastHistory, horizon parameters will require different set of X and Y indexes\n",
        "feature_names=[\"v\",\"dir\",\"temp\",\"p\"]\n",
        "y_names=[\"p\"]\n",
        "DataHandlerTrain= handler.SlidingWindowManySlices(\n",
        "                   X_series, Y_series,\n",
        "                   X_indexes_tr, Y_indexes_tr,\n",
        "                   batch_size,\n",
        "                   pastHistory,\n",
        "                   horizon,\n",
        "                   feature_names,\n",
        "                   y_names)\n",
        "DataHandlerTest= handler.SlidingWindowManySlices(\n",
        "                   X_series, Y_series,\n",
        "                   X_indexes_te, Y_indexes_te,\n",
        "                   batch_size,\n",
        "                   pastHistory,\n",
        "                   horizon,\n",
        "                   feature_names,\n",
        "                   y_names)"
      ],
      "metadata": {
        "id": "lgEaa7YvK1Qb"
      },
      "execution_count": 40,
      "outputs": []
    },
    {
      "cell_type": "code",
      "source": [
        "#NN architecture\n",
        "n_layers=4\n",
        "n_f=[16 for i in range(n_layers)] #number of filters per layer in each NN module\n",
        "kernel_size_per_layer=[7,5,3,3] # kernel sizes\n",
        "do_BN= False # Batch Normalization between conv layers, in my case it didn't improve the results\n",
        "K.backend.clear_session() #tidy up keras computation graph just in case\n",
        "#assemble model by joining 4 heads, one per each time series input\n",
        "ins=[]\n",
        "heads=[]\n",
        "for i in range(4): #for each input time-series\n",
        "  In= K.Input(shape=(pastHistory,1)) #number of inputs in timesteps to the network is always pastHistory\n",
        "  ins.append(In)\n",
        "  prev=In\n",
        "  for layer in range(n_layers):\n",
        "    new1=K.layers.Conv1D(n_f[layer], kernel_size_per_layer[layer], padding=\"same\")(prev)\n",
        "    new2=K.layers.ELU(alpha=3.0)(new1)\n",
        "    new3=K.layers.MaxPool1D(padding=\"same\")(new2)\n",
        "    if do_BN:\n",
        "      new4=K.layers.BatchNormalization()(new3)\n",
        "      prev=new4\n",
        "    else:\n",
        "      prev=new3\n",
        "  heads.append(prev)\n",
        "Link= K.layers.Concatenate()(heads)\n",
        "Flatten=K.layers.Flatten()(Link)\n",
        "FC= K.layers.Dense(100, activation='relu')(Flatten)\n",
        "Out= K.layers.Dense(horizon, activation='linear')(FC)   #number of outputs= horizon,...\n",
        "#...also linear activation (identity) in the last layer because of standardization...\n",
        "#...some target values might be negative \n",
        "my_model= K.Model(inputs=ins, outputs=[Out], name=\"Example.CNN\")\n"
      ],
      "metadata": {
        "id": "mM_sFpelQRVW"
      },
      "execution_count": 48,
      "outputs": []
    },
    {
      "cell_type": "markdown",
      "source": [
        "## Model training"
      ],
      "metadata": {
        "id": "4jL2NKXqMPOZ"
      }
    },
    {
      "cell_type": "code",
      "source": [
        "my_model.compile(loss='mse', \n",
        "                metrics=['mae'],\n",
        "                optimizer=K.optimizers.Adam(learning_rate=0.001))"
      ],
      "metadata": {
        "id": "QEItGyfcMOLl"
      },
      "execution_count": 49,
      "outputs": []
    },
    {
      "cell_type": "code",
      "source": [
        "my_model.summary()"
      ],
      "metadata": {
        "colab": {
          "base_uri": "https://localhost:8080/"
        },
        "id": "WyK6SwLvoiDe",
        "outputId": "e1fb921a-6292-4e3d-94d7-34d65c752daf"
      },
      "execution_count": 50,
      "outputs": [
        {
          "output_type": "stream",
          "name": "stdout",
          "text": [
            "Model: \"Example.CNN\"\n",
            "__________________________________________________________________________________________________\n",
            " Layer (type)                   Output Shape         Param #     Connected to                     \n",
            "==================================================================================================\n",
            " input_1 (InputLayer)           [(None, 11, 1)]      0           []                               \n",
            "                                                                                                  \n",
            " input_2 (InputLayer)           [(None, 11, 1)]      0           []                               \n",
            "                                                                                                  \n",
            " input_3 (InputLayer)           [(None, 11, 1)]      0           []                               \n",
            "                                                                                                  \n",
            " input_4 (InputLayer)           [(None, 11, 1)]      0           []                               \n",
            "                                                                                                  \n",
            " conv1d (Conv1D)                (None, 11, 16)       128         ['input_1[0][0]']                \n",
            "                                                                                                  \n",
            " conv1d_4 (Conv1D)              (None, 11, 16)       128         ['input_2[0][0]']                \n",
            "                                                                                                  \n",
            " conv1d_8 (Conv1D)              (None, 11, 16)       128         ['input_3[0][0]']                \n",
            "                                                                                                  \n",
            " conv1d_12 (Conv1D)             (None, 11, 16)       128         ['input_4[0][0]']                \n",
            "                                                                                                  \n",
            " elu (ELU)                      (None, 11, 16)       0           ['conv1d[0][0]']                 \n",
            "                                                                                                  \n",
            " elu_4 (ELU)                    (None, 11, 16)       0           ['conv1d_4[0][0]']               \n",
            "                                                                                                  \n",
            " elu_8 (ELU)                    (None, 11, 16)       0           ['conv1d_8[0][0]']               \n",
            "                                                                                                  \n",
            " elu_12 (ELU)                   (None, 11, 16)       0           ['conv1d_12[0][0]']              \n",
            "                                                                                                  \n",
            " max_pooling1d (MaxPooling1D)   (None, 6, 16)        0           ['elu[0][0]']                    \n",
            "                                                                                                  \n",
            " max_pooling1d_4 (MaxPooling1D)  (None, 6, 16)       0           ['elu_4[0][0]']                  \n",
            "                                                                                                  \n",
            " max_pooling1d_8 (MaxPooling1D)  (None, 6, 16)       0           ['elu_8[0][0]']                  \n",
            "                                                                                                  \n",
            " max_pooling1d_12 (MaxPooling1D  (None, 6, 16)       0           ['elu_12[0][0]']                 \n",
            " )                                                                                                \n",
            "                                                                                                  \n",
            " conv1d_1 (Conv1D)              (None, 6, 16)        1296        ['max_pooling1d[0][0]']          \n",
            "                                                                                                  \n",
            " conv1d_5 (Conv1D)              (None, 6, 16)        1296        ['max_pooling1d_4[0][0]']        \n",
            "                                                                                                  \n",
            " conv1d_9 (Conv1D)              (None, 6, 16)        1296        ['max_pooling1d_8[0][0]']        \n",
            "                                                                                                  \n",
            " conv1d_13 (Conv1D)             (None, 6, 16)        1296        ['max_pooling1d_12[0][0]']       \n",
            "                                                                                                  \n",
            " elu_1 (ELU)                    (None, 6, 16)        0           ['conv1d_1[0][0]']               \n",
            "                                                                                                  \n",
            " elu_5 (ELU)                    (None, 6, 16)        0           ['conv1d_5[0][0]']               \n",
            "                                                                                                  \n",
            " elu_9 (ELU)                    (None, 6, 16)        0           ['conv1d_9[0][0]']               \n",
            "                                                                                                  \n",
            " elu_13 (ELU)                   (None, 6, 16)        0           ['conv1d_13[0][0]']              \n",
            "                                                                                                  \n",
            " max_pooling1d_1 (MaxPooling1D)  (None, 3, 16)       0           ['elu_1[0][0]']                  \n",
            "                                                                                                  \n",
            " max_pooling1d_5 (MaxPooling1D)  (None, 3, 16)       0           ['elu_5[0][0]']                  \n",
            "                                                                                                  \n",
            " max_pooling1d_9 (MaxPooling1D)  (None, 3, 16)       0           ['elu_9[0][0]']                  \n",
            "                                                                                                  \n",
            " max_pooling1d_13 (MaxPooling1D  (None, 3, 16)       0           ['elu_13[0][0]']                 \n",
            " )                                                                                                \n",
            "                                                                                                  \n",
            " conv1d_2 (Conv1D)              (None, 3, 16)        784         ['max_pooling1d_1[0][0]']        \n",
            "                                                                                                  \n",
            " conv1d_6 (Conv1D)              (None, 3, 16)        784         ['max_pooling1d_5[0][0]']        \n",
            "                                                                                                  \n",
            " conv1d_10 (Conv1D)             (None, 3, 16)        784         ['max_pooling1d_9[0][0]']        \n",
            "                                                                                                  \n",
            " conv1d_14 (Conv1D)             (None, 3, 16)        784         ['max_pooling1d_13[0][0]']       \n",
            "                                                                                                  \n",
            " elu_2 (ELU)                    (None, 3, 16)        0           ['conv1d_2[0][0]']               \n",
            "                                                                                                  \n",
            " elu_6 (ELU)                    (None, 3, 16)        0           ['conv1d_6[0][0]']               \n",
            "                                                                                                  \n",
            " elu_10 (ELU)                   (None, 3, 16)        0           ['conv1d_10[0][0]']              \n",
            "                                                                                                  \n",
            " elu_14 (ELU)                   (None, 3, 16)        0           ['conv1d_14[0][0]']              \n",
            "                                                                                                  \n",
            " max_pooling1d_2 (MaxPooling1D)  (None, 2, 16)       0           ['elu_2[0][0]']                  \n",
            "                                                                                                  \n",
            " max_pooling1d_6 (MaxPooling1D)  (None, 2, 16)       0           ['elu_6[0][0]']                  \n",
            "                                                                                                  \n",
            " max_pooling1d_10 (MaxPooling1D  (None, 2, 16)       0           ['elu_10[0][0]']                 \n",
            " )                                                                                                \n",
            "                                                                                                  \n",
            " max_pooling1d_14 (MaxPooling1D  (None, 2, 16)       0           ['elu_14[0][0]']                 \n",
            " )                                                                                                \n",
            "                                                                                                  \n",
            " conv1d_3 (Conv1D)              (None, 2, 16)        784         ['max_pooling1d_2[0][0]']        \n",
            "                                                                                                  \n",
            " conv1d_7 (Conv1D)              (None, 2, 16)        784         ['max_pooling1d_6[0][0]']        \n",
            "                                                                                                  \n",
            " conv1d_11 (Conv1D)             (None, 2, 16)        784         ['max_pooling1d_10[0][0]']       \n",
            "                                                                                                  \n",
            " conv1d_15 (Conv1D)             (None, 2, 16)        784         ['max_pooling1d_14[0][0]']       \n",
            "                                                                                                  \n",
            " elu_3 (ELU)                    (None, 2, 16)        0           ['conv1d_3[0][0]']               \n",
            "                                                                                                  \n",
            " elu_7 (ELU)                    (None, 2, 16)        0           ['conv1d_7[0][0]']               \n",
            "                                                                                                  \n",
            " elu_11 (ELU)                   (None, 2, 16)        0           ['conv1d_11[0][0]']              \n",
            "                                                                                                  \n",
            " elu_15 (ELU)                   (None, 2, 16)        0           ['conv1d_15[0][0]']              \n",
            "                                                                                                  \n",
            " max_pooling1d_3 (MaxPooling1D)  (None, 1, 16)       0           ['elu_3[0][0]']                  \n",
            "                                                                                                  \n",
            " max_pooling1d_7 (MaxPooling1D)  (None, 1, 16)       0           ['elu_7[0][0]']                  \n",
            "                                                                                                  \n",
            " max_pooling1d_11 (MaxPooling1D  (None, 1, 16)       0           ['elu_11[0][0]']                 \n",
            " )                                                                                                \n",
            "                                                                                                  \n",
            " max_pooling1d_15 (MaxPooling1D  (None, 1, 16)       0           ['elu_15[0][0]']                 \n",
            " )                                                                                                \n",
            "                                                                                                  \n",
            " concatenate (Concatenate)      (None, 1, 64)        0           ['max_pooling1d_3[0][0]',        \n",
            "                                                                  'max_pooling1d_7[0][0]',        \n",
            "                                                                  'max_pooling1d_11[0][0]',       \n",
            "                                                                  'max_pooling1d_15[0][0]']       \n",
            "                                                                                                  \n",
            " flatten (Flatten)              (None, 64)           0           ['concatenate[0][0]']            \n",
            "                                                                                                  \n",
            " dense (Dense)                  (None, 100)          6500        ['flatten[0][0]']                \n",
            "                                                                                                  \n",
            " dense_1 (Dense)                (None, 9)            909         ['dense[0][0]']                  \n",
            "                                                                                                  \n",
            "==================================================================================================\n",
            "Total params: 19,377\n",
            "Trainable params: 19,377\n",
            "Non-trainable params: 0\n",
            "__________________________________________________________________________________________________\n"
          ]
        }
      ]
    },
    {
      "cell_type": "code",
      "source": [
        "N_EPOCHS=100\n",
        "HISTORY=my_model.fit(DataHandlerTrain, validation_data=DataHandlerTest, epochs=N_EPOCHS,\n",
        "                    callbacks=[K.callbacks.EarlyStopping(monitor='val_loss',\n",
        "                                                         patience=40,\n",
        "                                                         restore_best_weights=True)]\n",
        "                  )\n",
        "pd.DataFrame(HISTORY.history).to_csv('ResultsArray.csv')"
      ],
      "metadata": {
        "colab": {
          "base_uri": "https://localhost:8080/",
          "height": 450
        },
        "id": "XOtRfk8LahHi",
        "outputId": "f87c3ec4-2f82-4af0-e945-8c662c7c528d"
      },
      "execution_count": 51,
      "outputs": [
        {
          "output_type": "stream",
          "name": "stdout",
          "text": [
            "Epoch 1/100\n",
            "370/370 [==============================] - 23s 55ms/step - loss: 0.2894 - mae: 0.3338 - val_loss: 0.1644 - val_mae: 0.2808\n",
            "Epoch 2/100\n",
            "148/370 [===========>..................] - ETA: 9s - loss: 0.1890 - mae: 0.2644"
          ]
        },
        {
          "output_type": "error",
          "ename": "KeyboardInterrupt",
          "evalue": "ignored",
          "traceback": [
            "\u001b[0;31m---------------------------------------------------------------------------\u001b[0m",
            "\u001b[0;31mKeyboardInterrupt\u001b[0m                         Traceback (most recent call last)",
            "\u001b[0;32m<ipython-input-51-66a51e3941eb>\u001b[0m in \u001b[0;36m<module>\u001b[0;34m\u001b[0m\n\u001b[1;32m      3\u001b[0m                     callbacks=[K.callbacks.EarlyStopping(monitor='val_loss',\n\u001b[1;32m      4\u001b[0m                                                          \u001b[0mpatience\u001b[0m\u001b[0;34m=\u001b[0m\u001b[0;36m40\u001b[0m\u001b[0;34m,\u001b[0m\u001b[0;34m\u001b[0m\u001b[0;34m\u001b[0m\u001b[0m\n\u001b[0;32m----> 5\u001b[0;31m                                                          restore_best_weights=True)]\n\u001b[0m\u001b[1;32m      6\u001b[0m                   )\n\u001b[1;32m      7\u001b[0m \u001b[0mpd\u001b[0m\u001b[0;34m.\u001b[0m\u001b[0mDataFrame\u001b[0m\u001b[0;34m(\u001b[0m\u001b[0mHISTORY\u001b[0m\u001b[0;34m.\u001b[0m\u001b[0mhistory\u001b[0m\u001b[0;34m)\u001b[0m\u001b[0;34m.\u001b[0m\u001b[0mto_csv\u001b[0m\u001b[0;34m(\u001b[0m\u001b[0;34m'ResultsArray.csv'\u001b[0m\u001b[0;34m)\u001b[0m\u001b[0;34m\u001b[0m\u001b[0;34m\u001b[0m\u001b[0m\n",
            "\u001b[0;32m/usr/local/lib/python3.7/dist-packages/keras/utils/traceback_utils.py\u001b[0m in \u001b[0;36merror_handler\u001b[0;34m(*args, **kwargs)\u001b[0m\n\u001b[1;32m     62\u001b[0m     \u001b[0mfiltered_tb\u001b[0m \u001b[0;34m=\u001b[0m \u001b[0;32mNone\u001b[0m\u001b[0;34m\u001b[0m\u001b[0;34m\u001b[0m\u001b[0m\n\u001b[1;32m     63\u001b[0m     \u001b[0;32mtry\u001b[0m\u001b[0;34m:\u001b[0m\u001b[0;34m\u001b[0m\u001b[0;34m\u001b[0m\u001b[0m\n\u001b[0;32m---> 64\u001b[0;31m       \u001b[0;32mreturn\u001b[0m \u001b[0mfn\u001b[0m\u001b[0;34m(\u001b[0m\u001b[0;34m*\u001b[0m\u001b[0margs\u001b[0m\u001b[0;34m,\u001b[0m \u001b[0;34m**\u001b[0m\u001b[0mkwargs\u001b[0m\u001b[0;34m)\u001b[0m\u001b[0;34m\u001b[0m\u001b[0;34m\u001b[0m\u001b[0m\n\u001b[0m\u001b[1;32m     65\u001b[0m     \u001b[0;32mexcept\u001b[0m \u001b[0mException\u001b[0m \u001b[0;32mas\u001b[0m \u001b[0me\u001b[0m\u001b[0;34m:\u001b[0m  \u001b[0;31m# pylint: disable=broad-except\u001b[0m\u001b[0;34m\u001b[0m\u001b[0;34m\u001b[0m\u001b[0m\n\u001b[1;32m     66\u001b[0m       \u001b[0mfiltered_tb\u001b[0m \u001b[0;34m=\u001b[0m \u001b[0m_process_traceback_frames\u001b[0m\u001b[0;34m(\u001b[0m\u001b[0me\u001b[0m\u001b[0;34m.\u001b[0m\u001b[0m__traceback__\u001b[0m\u001b[0;34m)\u001b[0m\u001b[0;34m\u001b[0m\u001b[0;34m\u001b[0m\u001b[0m\n",
            "\u001b[0;32m/usr/local/lib/python3.7/dist-packages/keras/engine/training.py\u001b[0m in \u001b[0;36mfit\u001b[0;34m(self, x, y, batch_size, epochs, verbose, callbacks, validation_split, validation_data, shuffle, class_weight, sample_weight, initial_epoch, steps_per_epoch, validation_steps, validation_batch_size, validation_freq, max_queue_size, workers, use_multiprocessing)\u001b[0m\n\u001b[1;32m   1406\u001b[0m                 \u001b[0mbatch_size\u001b[0m\u001b[0;34m=\u001b[0m\u001b[0mbatch_size\u001b[0m\u001b[0;34m,\u001b[0m\u001b[0;34m\u001b[0m\u001b[0;34m\u001b[0m\u001b[0m\n\u001b[1;32m   1407\u001b[0m                 _r=1):\n\u001b[0;32m-> 1408\u001b[0;31m               \u001b[0mcallbacks\u001b[0m\u001b[0;34m.\u001b[0m\u001b[0mon_train_batch_begin\u001b[0m\u001b[0;34m(\u001b[0m\u001b[0mstep\u001b[0m\u001b[0;34m)\u001b[0m\u001b[0;34m\u001b[0m\u001b[0;34m\u001b[0m\u001b[0m\n\u001b[0m\u001b[1;32m   1409\u001b[0m               \u001b[0mtmp_logs\u001b[0m \u001b[0;34m=\u001b[0m \u001b[0mself\u001b[0m\u001b[0;34m.\u001b[0m\u001b[0mtrain_function\u001b[0m\u001b[0;34m(\u001b[0m\u001b[0miterator\u001b[0m\u001b[0;34m)\u001b[0m\u001b[0;34m\u001b[0m\u001b[0;34m\u001b[0m\u001b[0m\n\u001b[1;32m   1410\u001b[0m               \u001b[0;32mif\u001b[0m \u001b[0mdata_handler\u001b[0m\u001b[0;34m.\u001b[0m\u001b[0mshould_sync\u001b[0m\u001b[0;34m:\u001b[0m\u001b[0;34m\u001b[0m\u001b[0;34m\u001b[0m\u001b[0m\n",
            "\u001b[0;32m/usr/local/lib/python3.7/dist-packages/keras/callbacks.py\u001b[0m in \u001b[0;36mon_train_batch_begin\u001b[0;34m(self, batch, logs)\u001b[0m\n\u001b[1;32m    426\u001b[0m     \"\"\"\n\u001b[1;32m    427\u001b[0m     \u001b[0;32mif\u001b[0m \u001b[0mself\u001b[0m\u001b[0;34m.\u001b[0m\u001b[0m_should_call_train_batch_hooks\u001b[0m\u001b[0;34m:\u001b[0m\u001b[0;34m\u001b[0m\u001b[0;34m\u001b[0m\u001b[0m\n\u001b[0;32m--> 428\u001b[0;31m       \u001b[0mself\u001b[0m\u001b[0;34m.\u001b[0m\u001b[0m_call_batch_hook\u001b[0m\u001b[0;34m(\u001b[0m\u001b[0mModeKeys\u001b[0m\u001b[0;34m.\u001b[0m\u001b[0mTRAIN\u001b[0m\u001b[0;34m,\u001b[0m \u001b[0;34m'begin'\u001b[0m\u001b[0;34m,\u001b[0m \u001b[0mbatch\u001b[0m\u001b[0;34m,\u001b[0m \u001b[0mlogs\u001b[0m\u001b[0;34m=\u001b[0m\u001b[0mlogs\u001b[0m\u001b[0;34m)\u001b[0m\u001b[0;34m\u001b[0m\u001b[0;34m\u001b[0m\u001b[0m\n\u001b[0m\u001b[1;32m    429\u001b[0m \u001b[0;34m\u001b[0m\u001b[0m\n\u001b[1;32m    430\u001b[0m   \u001b[0;32mdef\u001b[0m \u001b[0mon_train_batch_end\u001b[0m\u001b[0;34m(\u001b[0m\u001b[0mself\u001b[0m\u001b[0;34m,\u001b[0m \u001b[0mbatch\u001b[0m\u001b[0;34m,\u001b[0m \u001b[0mlogs\u001b[0m\u001b[0;34m=\u001b[0m\u001b[0;32mNone\u001b[0m\u001b[0;34m)\u001b[0m\u001b[0;34m:\u001b[0m\u001b[0;34m\u001b[0m\u001b[0;34m\u001b[0m\u001b[0m\n",
            "\u001b[0;32m/usr/local/lib/python3.7/dist-packages/keras/callbacks.py\u001b[0m in \u001b[0;36m_call_batch_hook\u001b[0;34m(self, mode, hook, batch, logs)\u001b[0m\n\u001b[1;32m    293\u001b[0m \u001b[0;34m\u001b[0m\u001b[0m\n\u001b[1;32m    294\u001b[0m     \u001b[0;32mif\u001b[0m \u001b[0mhook\u001b[0m \u001b[0;34m==\u001b[0m \u001b[0;34m'begin'\u001b[0m\u001b[0;34m:\u001b[0m\u001b[0;34m\u001b[0m\u001b[0;34m\u001b[0m\u001b[0m\n\u001b[0;32m--> 295\u001b[0;31m       \u001b[0mself\u001b[0m\u001b[0;34m.\u001b[0m\u001b[0m_call_batch_begin_hook\u001b[0m\u001b[0;34m(\u001b[0m\u001b[0mmode\u001b[0m\u001b[0;34m,\u001b[0m \u001b[0mbatch\u001b[0m\u001b[0;34m,\u001b[0m \u001b[0mlogs\u001b[0m\u001b[0;34m)\u001b[0m\u001b[0;34m\u001b[0m\u001b[0;34m\u001b[0m\u001b[0m\n\u001b[0m\u001b[1;32m    296\u001b[0m     \u001b[0;32melif\u001b[0m \u001b[0mhook\u001b[0m \u001b[0;34m==\u001b[0m \u001b[0;34m'end'\u001b[0m\u001b[0;34m:\u001b[0m\u001b[0;34m\u001b[0m\u001b[0;34m\u001b[0m\u001b[0m\n\u001b[1;32m    297\u001b[0m       \u001b[0mself\u001b[0m\u001b[0;34m.\u001b[0m\u001b[0m_call_batch_end_hook\u001b[0m\u001b[0;34m(\u001b[0m\u001b[0mmode\u001b[0m\u001b[0;34m,\u001b[0m \u001b[0mbatch\u001b[0m\u001b[0;34m,\u001b[0m \u001b[0mlogs\u001b[0m\u001b[0;34m)\u001b[0m\u001b[0;34m\u001b[0m\u001b[0;34m\u001b[0m\u001b[0m\n",
            "\u001b[0;32m/usr/local/lib/python3.7/dist-packages/keras/callbacks.py\u001b[0m in \u001b[0;36m_call_batch_begin_hook\u001b[0;34m(self, mode, batch, logs)\u001b[0m\n\u001b[1;32m    305\u001b[0m     \u001b[0mself\u001b[0m\u001b[0;34m.\u001b[0m\u001b[0m_call_batch_hook_helper\u001b[0m\u001b[0;34m(\u001b[0m\u001b[0mhook_name\u001b[0m\u001b[0;34m,\u001b[0m \u001b[0mbatch\u001b[0m\u001b[0;34m,\u001b[0m \u001b[0mlogs\u001b[0m\u001b[0;34m)\u001b[0m\u001b[0;34m\u001b[0m\u001b[0;34m\u001b[0m\u001b[0m\n\u001b[1;32m    306\u001b[0m \u001b[0;34m\u001b[0m\u001b[0m\n\u001b[0;32m--> 307\u001b[0;31m     \u001b[0;32mif\u001b[0m \u001b[0mself\u001b[0m\u001b[0;34m.\u001b[0m\u001b[0m_check_timing\u001b[0m\u001b[0;34m:\u001b[0m\u001b[0;34m\u001b[0m\u001b[0;34m\u001b[0m\u001b[0m\n\u001b[0m\u001b[1;32m    308\u001b[0m       \u001b[0mself\u001b[0m\u001b[0;34m.\u001b[0m\u001b[0m_batch_start_time\u001b[0m \u001b[0;34m=\u001b[0m \u001b[0mtime\u001b[0m\u001b[0;34m.\u001b[0m\u001b[0mtime\u001b[0m\u001b[0;34m(\u001b[0m\u001b[0;34m)\u001b[0m\u001b[0;34m\u001b[0m\u001b[0;34m\u001b[0m\u001b[0m\n\u001b[1;32m    309\u001b[0m \u001b[0;34m\u001b[0m\u001b[0m\n",
            "\u001b[0;31mKeyboardInterrupt\u001b[0m: "
          ]
        }
      ]
    },
    {
      "cell_type": "code",
      "source": [
        "targets=np.vstack([batch[1] for batch in DataHandlerTest])"
      ],
      "metadata": {
        "id": "D0S4CUi0b_BZ"
      },
      "execution_count": 53,
      "outputs": []
    },
    {
      "cell_type": "markdown",
      "source": [
        "## Model prediction on validation set"
      ],
      "metadata": {
        "id": "UlCqQ4eoMY_M"
      }
    },
    {
      "cell_type": "code",
      "source": [
        "predictions= my_model.predict(DataHandlerTest).reshape(targets.shape)\n",
        "# to be compared with targets array for error values on validation set"
      ],
      "metadata": {
        "colab": {
          "base_uri": "https://localhost:8080/"
        },
        "id": "UXR72mfxMV9y",
        "outputId": "6ca5d4ca-fb77-4bb8-f2ec-eab51d2a59fd"
      },
      "execution_count": 54,
      "outputs": [
        {
          "output_type": "stream",
          "name": "stdout",
          "text": [
            "106/106 [==============================] - 4s 36ms/step\n"
          ]
        }
      ]
    },
    {
      "cell_type": "code",
      "source": [
        "#power prediction to WATTS or whatever initial units (inverse of standarization)\n",
        "prediction_watts=np.array(\n",
        "     [ Y_estimators['standardize']['p'].inverse_transform(sample) for sample in predictions ] \n",
        "                         )\n",
        "targets_watts= np.array(\n",
        "     [ Y_estimators['standardize']['p'].inverse_transform(sample) for sample in targets ]\n",
        "                        )"
      ],
      "metadata": {
        "id": "TZ52jvLRc6Je"
      },
      "execution_count": 55,
      "outputs": []
    },
    {
      "cell_type": "code",
      "source": [
        "prediction_watts.shape"
      ],
      "metadata": {
        "colab": {
          "base_uri": "https://localhost:8080/"
        },
        "id": "-g1SMkGIpRm6",
        "outputId": "286db361-72d8-40f3-cd19-24830fc8a7bd"
      },
      "execution_count": 57,
      "outputs": [
        {
          "output_type": "execute_result",
          "data": {
            "text/plain": [
              "(3392, 9, 1)"
            ]
          },
          "metadata": {},
          "execution_count": 57
        }
      ]
    },
    {
      "cell_type": "code",
      "source": [
        "targets_watts.shape"
      ],
      "metadata": {
        "colab": {
          "base_uri": "https://localhost:8080/"
        },
        "id": "gNApUh4SpTGb",
        "outputId": "d376df76-d7f6-4fe8-902c-7d97307b7ab3"
      },
      "execution_count": 58,
      "outputs": [
        {
          "output_type": "execute_result",
          "data": {
            "text/plain": [
              "(3392, 9, 1)"
            ]
          },
          "metadata": {},
          "execution_count": 58
        }
      ]
    },
    {
      "cell_type": "code",
      "source": [],
      "metadata": {
        "id": "UZ-EJd-ypXPU"
      },
      "execution_count": null,
      "outputs": []
    }
  ]
}